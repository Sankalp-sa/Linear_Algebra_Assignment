{
  "nbformat": 4,
  "nbformat_minor": 0,
  "metadata": {
    "colab": {
      "provenance": [],
      "include_colab_link": true
    },
    "kernelspec": {
      "name": "python3",
      "display_name": "Python 3"
    },
    "language_info": {
      "name": "python"
    }
  },
  "cells": [
    {
      "cell_type": "markdown",
      "metadata": {
        "id": "view-in-github",
        "colab_type": "text"
      },
      "source": [
        "<a href=\"https://colab.research.google.com/github/Sankalp-sa/Linear_Algebra_Assignment/blob/main/ALA_Ques_a_Vishal_Sharma.ipynb\" target=\"_parent\"><img src=\"https://colab.research.google.com/assets/colab-badge.svg\" alt=\"Open In Colab\"/></a>"
      ]
    },
    {
      "cell_type": "code",
      "execution_count": 1,
      "metadata": {
        "id": "oElU2oz7Tvwb"
      },
      "outputs": [],
      "source": [
        "import sympy as sym\n",
        "import numpy as np"
      ]
    },
    {
      "cell_type": "code",
      "source": [
        "sym.init_printing(use_latex=\"mathjax\")"
      ],
      "metadata": {
        "id": "cCeNkabtUECI"
      },
      "execution_count": 2,
      "outputs": []
    },
    {
      "cell_type": "code",
      "source": [
        "\n",
        "def print_matrix(Title, M):\n",
        "    print(Title)\n",
        "    for row in M:\n",
        "        print([round(x,3)+0 for x in row])\n",
        "\n",
        "def Inverse(A,I):\n",
        "\n",
        "    n=len(A)\n",
        "    indices = list(range(n))\n",
        "    \n",
        "    for p in range(n): \n",
        "        divider = 1.0 / A[p][p]\n",
        "      \n",
        "        for j in range(n): \n",
        "          A[p][j] *= divider\n",
        "          I[p][j] *= divider\n",
        "      \n",
        "        for i in range(n):\n",
        "            Subtracter = A[i][p] \n",
        "            if(i == p):\n",
        "                continue\n",
        "            \n",
        "            for j in range(n):\n",
        "                A[i][j] = A[i][j] - Subtracter * A[p][j]\n",
        "                I[i][j] = I[i][j] - Subtracter * I[p][j]\n",
        "            \n",
        "    print_matrix(\"inverse is\",I) \n",
        "\n",
        "        \n",
        "\n",
        "A1 = [[5,4,3,2,1],[4,3,2,1,5],[3,2,9,5,4],[2,1,5,4,3],[1,2,3,4,5]]\n",
        "I1 = [[1,0,0,0,0],[0,1,0,0,0],[0,0,1,0,0],[0,0,0,1,0],[0,0,0,0,1]]\n",
        "A2 = [[1,1,1,1,1],[1,2,3,1,2],[1,3,6,1,3],[0,0,0,1,1],[0,0,0,1,2]]\n",
        "I2 = [[1,0,0,0,0],[0,1,0,0,0],[0,0,1,0,0],[0,0,0,1,0],[0,0,0,0,1]]\n",
        "A3 = [[1,0,4,-6],[2,5,0,3],[-1,2,3,5],[2,1,-2,3]]\n",
        "I3 = [[1,0,0,0],[0,1,0,0],[0,0,1,0],[0,0,0,1]]\n",
        "A4 = [[1,2,3,4],[-1,2,0,5],[0,4,-2,6],[2,4,0,6]]\n",
        "I4 = [[1,0,0,0],[0,1,0,0],[0,0,1,0],[0,0,0,1]]\n",
        "A1test = np.array(A1)\n",
        "I1test = np.array(I1)\n",
        "A2test = np.array(A2)\n",
        "I2test = np.array(I2)\n",
        "A3test = np.array(A3)\n",
        "I3test = np.array(I3)\n",
        "A4test = np.array(A4)\n",
        "I4test = np.array(I4)\n",
        "Inverse(A1,I1)  \n",
        "print()\n",
        "print(\"Output by numpy\")\n",
        "print(np.linalg.inv(A1test))\n",
        "print()\n",
        "Inverse(A2,I2)\n",
        "print()\n",
        "print(\"Output by numpy\")\n",
        "print(np.linalg.inv(A2test))\n",
        "print()\n",
        "Inverse(A3,I3)\n",
        "print()\n",
        "print(\"Output by numpy\")\n",
        "print(np.linalg.inv(A3test))\n",
        "print()\n",
        "Inverse(A4,I4)\n",
        "print()\n",
        "print(\"Output by numpy\")\n",
        "print(np.linalg.inv(A4test))\n"
      ],
      "metadata": {
        "colab": {
          "base_uri": "https://localhost:8080/"
        },
        "id": "Vq3I_U1SUM_D",
        "outputId": "0fcda426-4b39-4aff-f346-9642e9047565"
      },
      "execution_count": 3,
      "outputs": [
        {
          "output_type": "stream",
          "name": "stdout",
          "text": [
            "inverse is\n",
            "[0.022, 0.2, -0.333, 0.733, -0.378]\n",
            "[0.244, -0.2, 0.333, -0.933, 0.444]\n",
            "[-0.056, 0.0, 0.333, -0.333, -0.056]\n",
            "[0.122, -0.2, -0.333, 0.533, 0.122]\n",
            "[-0.167, 0.2, 0.0, 0.0, 0.033]\n",
            "\n",
            "Output by numpy\n",
            "[[ 2.22222222e-02  2.00000000e-01 -3.33333333e-01  7.33333333e-01\n",
            "  -3.77777778e-01]\n",
            " [ 2.44444444e-01 -2.00000000e-01  3.33333333e-01 -9.33333333e-01\n",
            "   4.44444444e-01]\n",
            " [-5.55555556e-02 -5.55111512e-17  3.33333333e-01 -3.33333333e-01\n",
            "  -5.55555556e-02]\n",
            " [ 1.22222222e-01 -2.00000000e-01 -3.33333333e-01  5.33333333e-01\n",
            "   1.22222222e-01]\n",
            " [-1.66666667e-01  2.00000000e-01  2.96059473e-17 -4.73695157e-17\n",
            "   3.33333333e-02]]\n",
            "\n",
            "inverse is\n",
            "[3.0, -3.0, 1.0, -2.0, 1.0]\n",
            "[-3.0, 5.0, -2.0, 1.0, -1.0]\n",
            "[1.0, -2.0, 1.0, 0.0, 0.0]\n",
            "[0.0, 0.0, 0.0, 2.0, -1.0]\n",
            "[0.0, 0.0, 0.0, -1.0, 1.0]\n",
            "\n",
            "Output by numpy\n",
            "[[ 3. -3.  1. -2.  1.]\n",
            " [-3.  5. -2.  1. -1.]\n",
            " [ 1. -2.  1. -0. -0.]\n",
            " [ 0.  0.  0.  2. -1.]\n",
            " [ 0.  0.  0. -1.  1.]]\n",
            "\n",
            "inverse is\n",
            "[0.233, -0.119, 0.038, 0.522]\n",
            "[-0.082, 0.299, -0.094, -0.305]\n",
            "[0.164, -0.097, 0.189, 0.11]\n",
            "[-0.019, -0.085, 0.132, 0.16]\n",
            "\n",
            "Output by numpy\n",
            "[[ 0.2327044  -0.11949686  0.03773585  0.52201258]\n",
            " [-0.08176101  0.29874214 -0.09433962 -0.30503145]\n",
            " [ 0.16352201 -0.09748428  0.18867925  0.11006289]\n",
            " [-0.01886792 -0.08490566  0.13207547  0.16037736]]\n",
            "\n",
            "inverse is\n",
            "[-0.5, 0.25, -0.75, 0.875]\n",
            "[1.0, -1.25, 1.5, -1.125]\n",
            "[0.5, -0.25, 0.25, -0.375]\n",
            "[-0.5, 0.75, -0.75, 0.625]\n",
            "\n",
            "Output by numpy\n",
            "[[-0.5    0.25  -0.75   0.875]\n",
            " [ 1.    -1.25   1.5   -1.125]\n",
            " [ 0.5   -0.25   0.25  -0.375]\n",
            " [-0.5    0.75  -0.75   0.625]]\n"
          ]
        }
      ]
    },
    {
      "cell_type": "code",
      "source": [],
      "metadata": {
        "id": "67HTkzJeVpNa"
      },
      "execution_count": null,
      "outputs": []
    }
  ]
}