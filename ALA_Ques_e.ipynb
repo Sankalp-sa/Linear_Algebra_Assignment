{
  "cells": [
    {
      "cell_type": "markdown",
      "metadata": {
        "id": "view-in-github",
        "colab_type": "text"
      },
      "source": [
        "<a href=\"https://colab.research.google.com/github/Sankalp-sa/Linear_Algebra_Assignment/blob/main/ALA_Ques_e.ipynb\" target=\"_parent\"><img src=\"https://colab.research.google.com/assets/colab-badge.svg\" alt=\"Open In Colab\"/></a>"
      ]
    },
    {
      "cell_type": "code",
      "execution_count": null,
      "id": "1ec95330",
      "metadata": {
        "id": "1ec95330"
      },
      "outputs": [],
      "source": [
        "import sympy as sym\n",
        "import math as Math"
      ]
    },
    {
      "cell_type": "code",
      "execution_count": null,
      "id": "ccb44b60",
      "metadata": {
        "id": "ccb44b60"
      },
      "outputs": [],
      "source": [
        "sym.init_printing(use_latex=\"mathjax\")"
      ]
    },
    {
      "cell_type": "markdown",
      "id": "4a6cb0e8",
      "metadata": {
        "id": "4a6cb0e8"
      },
      "source": [
        "### Que e) Calculate the Norm of a matrix "
      ]
    },
    {
      "cell_type": "code",
      "execution_count": null,
      "id": "70b2dd39",
      "metadata": {
        "id": "70b2dd39",
        "outputId": "bee0a859-7d14-419d-adda-6663ad21bbc4",
        "colab": {
          "base_uri": "https://localhost:8080/",
          "height": 95
        }
      },
      "outputs": [
        {
          "output_type": "stream",
          "name": "stdout",
          "text": [
            "m1 = \n"
          ]
        },
        {
          "output_type": "execute_result",
          "data": {
            "text/plain": [
              "⎡1  1  1⎤\n",
              "⎢       ⎥\n",
              "⎢1  1  1⎥\n",
              "⎢       ⎥\n",
              "⎣1  1  1⎦"
            ],
            "text/latex": "$\\displaystyle \\left[\\begin{matrix}1 & 1 & 1\\\\1 & 1 & 1\\\\1 & 1 & 1\\end{matrix}\\right]$"
          },
          "metadata": {},
          "execution_count": 5
        }
      ],
      "source": [
        "def findNorm(Matrix):\n",
        "    sum =0\n",
        "    row = len(Matrix)\n",
        "    col = len(Matrix[0])\n",
        "    for i in range(row):\n",
        "        for j in range(col):\n",
        "            sum = sum + Math.pow(Matrix[i][j],2)\n",
        "    \n",
        "    return Math.sqrt(sum)\n",
        "\n",
        "Matrix = [[1,1,1],[1,1,1],[1,1,1]]\n",
        "m1 = sym.Matrix(Matrix)\n",
        "print(\"m1 = \")\n",
        "m1"
      ]
    },
    {
      "cell_type": "code",
      "execution_count": null,
      "id": "6c93c2ba",
      "metadata": {
        "id": "6c93c2ba",
        "outputId": "082fd8bb-67b7-4b70-f8eb-5d8ab062b7c1",
        "colab": {
          "base_uri": "https://localhost:8080/"
        }
      },
      "outputs": [
        {
          "output_type": "stream",
          "name": "stdout",
          "text": [
            "Norm of m1 =  3.0\n"
          ]
        }
      ],
      "source": [
        "print(\"Norm of m1 = \",findNorm(Matrix))"
      ]
    },
    {
      "cell_type": "code",
      "source": [],
      "metadata": {
        "id": "p2VCmKaldeN1"
      },
      "id": "p2VCmKaldeN1",
      "execution_count": null,
      "outputs": []
    }
  ],
  "metadata": {
    "kernelspec": {
      "display_name": "Python 3 (ipykernel)",
      "language": "python",
      "name": "python3"
    },
    "language_info": {
      "codemirror_mode": {
        "name": "ipython",
        "version": 3
      },
      "file_extension": ".py",
      "mimetype": "text/x-python",
      "name": "python",
      "nbconvert_exporter": "python",
      "pygments_lexer": "ipython3",
      "version": "3.9.12"
    },
    "colab": {
      "provenance": [],
      "include_colab_link": true
    }
  },
  "nbformat": 4,
  "nbformat_minor": 5
}