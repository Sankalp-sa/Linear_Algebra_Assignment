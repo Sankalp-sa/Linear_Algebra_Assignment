{
  "cells": [
    {
      "cell_type": "markdown",
      "metadata": {
        "id": "view-in-github",
        "colab_type": "text"
      },
      "source": [
        "<a href=\"https://colab.research.google.com/github/Sankalp-sa/Linear_Algebra_Assignment/blob/main/ALA_Ques_c.ipynb\" target=\"_parent\"><img src=\"https://colab.research.google.com/assets/colab-badge.svg\" alt=\"Open In Colab\"/></a>"
      ]
    },
    {
      "cell_type": "code",
      "execution_count": 4,
      "id": "b66a5c6d",
      "metadata": {
        "id": "b66a5c6d"
      },
      "outputs": [],
      "source": [
        "import sympy as sym\n",
        "import numpy as np"
      ]
    },
    {
      "cell_type": "code",
      "execution_count": 5,
      "id": "c652a265",
      "metadata": {
        "id": "c652a265"
      },
      "outputs": [],
      "source": [
        "sym.init_printing(use_latex=\"mathjax\")"
      ]
    },
    {
      "cell_type": "code",
      "execution_count": 6,
      "id": "313f2ee3",
      "metadata": {
        "colab": {
          "base_uri": "https://localhost:8080/"
        },
        "id": "313f2ee3",
        "outputId": "ed1cd99e-ff42-4df6-f52d-ecb1d5caaeae"
      },
      "outputs": [
        {
          "output_type": "stream",
          "name": "stdout",
          "text": [
            "Solution 1 is -0.5\n",
            "Solution 2 is 2.0\n"
          ]
        }
      ],
      "source": [
        "def solve_Linear_Eq(A,b):\n",
        "    \n",
        "    n = len(A)\n",
        "    index = list(range(n))\n",
        "    \n",
        "    for pivot in range(n):\n",
        "        \n",
        "        div = 1/(A[pivot][pivot])\n",
        "        for i in range(n):\n",
        "            A[pivot][i] *= div\n",
        "        b[pivot][0] *= div\n",
        "\n",
        "        for i in range(n):\n",
        "\n",
        "            sub = A[i][pivot]\n",
        "\n",
        "            if(i == pivot):\n",
        "                continue\n",
        "            \n",
        "            for j in range(n):\n",
        "                A[i][j] = A[i][j] - sub*(A[pivot][j])\n",
        "            b[i][0] = b[i][0] - sub*(b[pivot][0])\n",
        "        \n",
        "    for r in range(n):\n",
        "        print(f\"Solution {r+1} is {b[r][0]}\")\n",
        "\n",
        "A = [[2,3],[2,2]]\n",
        "b = [[5],[3]]\n",
        "\n",
        "solve_Linear_Eq(A,b)  \n"
      ]
    },
    {
      "cell_type": "code",
      "source": [],
      "metadata": {
        "id": "_svaVWZRl2MV"
      },
      "id": "_svaVWZRl2MV",
      "execution_count": null,
      "outputs": []
    }
  ],
  "metadata": {
    "kernelspec": {
      "display_name": "Python 3 (ipykernel)",
      "language": "python",
      "name": "python3"
    },
    "language_info": {
      "codemirror_mode": {
        "name": "ipython",
        "version": 3
      },
      "file_extension": ".py",
      "mimetype": "text/x-python",
      "name": "python",
      "nbconvert_exporter": "python",
      "pygments_lexer": "ipython3",
      "version": "3.9.12"
    },
    "vscode": {
      "interpreter": {
        "hash": "e931148e872d1024ce502f2abe17ec7c9104e614652e991e60d34f810e70bb51"
      }
    },
    "colab": {
      "provenance": [],
      "include_colab_link": true
    }
  },
  "nbformat": 4,
  "nbformat_minor": 5
}