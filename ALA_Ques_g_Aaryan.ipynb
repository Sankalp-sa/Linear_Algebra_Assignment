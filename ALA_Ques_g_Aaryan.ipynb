{
  "nbformat": 4,
  "nbformat_minor": 0,
  "metadata": {
    "colab": {
      "provenance": [],
      "collapsed_sections": [],
      "include_colab_link": true
    },
    "kernelspec": {
      "name": "python3",
      "display_name": "Python 3"
    },
    "language_info": {
      "name": "python"
    }
  },
  "cells": [
    {
      "cell_type": "markdown",
      "metadata": {
        "id": "view-in-github",
        "colab_type": "text"
      },
      "source": [
        "<a href=\"https://colab.research.google.com/github/Sankalp-sa/Linear_Algebra_Assignment/blob/main/ALA_Ques_g_Aaryan.ipynb\" target=\"_parent\"><img src=\"https://colab.research.google.com/assets/colab-badge.svg\" alt=\"Open In Colab\"/></a>"
      ]
    },
    {
      "cell_type": "code",
      "execution_count": null,
      "metadata": {
        "id": "svEbF0rNgqHt"
      },
      "outputs": [],
      "source": [
        "# count of rows and columns start from 0 i.e range is [0 to (ncols/ nrows)-1]\n",
        "# the code will give correct value of rank but the reduced row matrix can be wrong if there is any possible fractional value in the reduction of the matrix\n",
        "\n",
        "class matrix:\n",
        "    def __init__(self,rows,cols):\n",
        "        self.nrows=rows\n",
        "        self.ncols=cols\n",
        "        temparr=[]\n",
        "        for i in range(rows):\n",
        "            temparr.append([0]*cols)\n",
        "        self.mat=temparr\n",
        "\n",
        "    def numrows(self):\n",
        "        print(self.nrows)\n",
        "\n",
        "    def numcols(self):\n",
        "        print(self.ncols)\n",
        "\n",
        "    def getvalue(self,i,j):\n",
        "        if ((i in range (self.nrows)) and (j in range (self.ncols)) ):\n",
        "            return self.mat[i][j]\n",
        "    \n",
        "    def setvalue(self,i,j,scal):\n",
        "        if ((i in range (self.nrows)) and (j in range (self.ncols)) ):\n",
        "            self.mat[i][j]=scal\n",
        "\n",
        "    def inputasrow(self,rownum,arr):\n",
        "        if len(arr)>0 and len(arr)<=self.ncols and rownum<=self.nrows:\n",
        "            for i in range(len(arr)):\n",
        "                #print(i)\n",
        "                self.mat[rownum][i]=arr[i]\n",
        "\n",
        "    def interchange(self,r1,r2):                #matrix interchange operation\n",
        "        for h in range(self.ncols):\n",
        "            self.mat[r1][h],self.mat[r2][h]=self.mat[r2][h],self.mat[r1][h]\n",
        "\n",
        "    def replacement(self,r1,r2,scalar):         #matrix replacement operation\n",
        "        for i in range(len(self.mat[r1])):\n",
        "            self.mat[r1][i] = int(self.mat[r1][i] + (self.mat[r2][i]*scalar))\n",
        "\n",
        "    def printmat(self):\n",
        "        for i in range (self.nrows):\n",
        "            for j in range(self.ncols):\n",
        "                print(self.mat[i][j],end=\" \")\n",
        "            print()   \n",
        "\n",
        "    def getcolumn(self,c):      #gets the column vector of the matrix\n",
        "        list=[]\n",
        "        for i in range(self.nrows):\n",
        "            a=self.mat[i][c]\n",
        "            list.append(a)\n",
        "        return list\n",
        "\n",
        "    def nonzerocolumn(self,c):      #checks if the column vector has any non zero element\n",
        "        if sum(abs(x) for x in c)>0: return True\n",
        "        else: return False\n",
        "\n",
        "    def getpivot(self,cvector):            #takes column vector of the matrix and returns smallest non zero + or - number.\n",
        "        piv=min((abs(x) for x in cvector if x != 0), default=\"EMPTY\")\n",
        "        if piv in cvector: return(piv)\n",
        "        elif piv not in cvector and piv!='EMPTY': return((-1)*piv)\n",
        "        else: return(None)\n",
        "\n",
        "\n",
        "    def rrank(self,):           #np.all(tempcol) true if all non zero\n",
        "\n",
        "        rowcounter=0   #variable storing rank and also using it to get column input of the matrix\n",
        "        for i in range(self.ncols):\n",
        "            tempcol= self.getcolumn(i)\n",
        "\n",
        "            if  self.nonzerocolumn(tempcol):         #np.any means there is atleast one non zero element\n",
        "                piv=self.getpivot(tempcol[rowcounter:])           #to get smallest eligible non zero value for pivot from a new cvector(a vector not containg the upper pivot values)\n",
        "                #print('pivot value: ',piv)\n",
        "                if piv !=None:                                     #for the lowermost left side element if zero then we don't have to run as it is not present in the cvector.\n",
        "                    a=1\n",
        "                    rownumofpiv=([0]*rowcounter+tempcol[rowcounter:]).index(piv)       #to get index of the pivot value in form of row number from new cvector\n",
        "                    self.interchange(rownumofpiv,rowcounter)      #changing the rows to get the pivot value on the upmost possible top position \n",
        "                    rowcounter+=1\n",
        "                    #self.printmat()\n",
        "                    for j in range(rowcounter,self.nrows):      #loops runs down the column from the value below the pivot one to make every value zero\n",
        "                        if self.mat[j][i]!=0:\n",
        "                            scalar=(-1)*(self.mat[j][i]/piv)\n",
        "                            self.replacement(j,rowcounter-1,scalar)\n",
        "                            #self.printmat()          \n",
        "        \n",
        "        if a==1: return rowcounter                              #if condition because if there is a zero row then we don't have to add one\n",
        "        else: return rowcounter+1                               #else condition for no zero row in the matrix\n"
      ]
    },
    {
      "cell_type": "code",
      "source": [
        "#using matrix class and rrank() function to get the rank \n",
        "\n",
        "#3 x 3 matrices\n",
        "testcase0=matrix(3,3)\n",
        "testcase0.inputasrow(0,[2,0,2])\n",
        "testcase0.inputasrow(1,[5,0,1])\n",
        "testcase0.inputasrow(2,[0,0,1])\n",
        "print('Rank of zeroth test case: ',testcase0.rrank())\n",
        "\n",
        "testcase1=matrix(3,3)\n",
        "testcase1.inputasrow(0,[1,5,-7])\n",
        "testcase1.inputasrow(1,[1,6,5])\n",
        "testcase1.inputasrow(2,[2,8,7])\n",
        "print('Rank of first test case: ',testcase1.rrank())\n",
        "\n",
        "#4 x 4 matrix\n",
        "testcase2=matrix(4,4)\n",
        "testcase2.inputasrow(0,[1,2,0,3])\n",
        "testcase2.inputasrow(1,[3,1,2,1])\n",
        "testcase2.inputasrow(2,[1,2,1,2])\n",
        "testcase2.inputasrow(3,[1,0,0,1])\n",
        "print('Rank of second test case: ',testcase2.rrank())\n",
        "\n",
        "#5 x 5 matrix\n",
        "testcase3=matrix(5,5)\n",
        "testcase3.inputasrow(0,[1,1,0,2,3])\n",
        "testcase3.inputasrow(1,[3,4,2,0,1])\n",
        "testcase3.inputasrow(2,[0,2,1,1,1])\n",
        "testcase3.inputasrow(3,[-1,2,0,3,1])\n",
        "testcase3.inputasrow(4,[2,1,0,1,0])\n",
        "print('Rank of third test case: ',testcase3.rrank())"
      ],
      "metadata": {
        "colab": {
          "base_uri": "https://localhost:8080/"
        },
        "id": "KZcYFlZtg4eX",
        "outputId": "ba429e54-cfb4-46f4-f35c-166af257a741"
      },
      "execution_count": null,
      "outputs": [
        {
          "output_type": "stream",
          "name": "stdout",
          "text": [
            "Rank of zeroth test case:  2\n",
            "Rank of first test case:  3\n",
            "Rank of second test case:  4\n",
            "Rank of third test case:  5\n"
          ]
        }
      ]
    },
    {
      "cell_type": "code",
      "source": [
        "#using library function to get rank of the test case matrix\n",
        "\n",
        "import numpy as np\n",
        "testcase0=np.array([[2,0,2],[5,0,1],[0,0,1]])\n",
        "testcase1=np.array([[1,5,-7],[1,6,5],[2,8,7]])\n",
        "testcase2=np.array([[1,2,0,3],[3,1,2,1],[1,2,1,2],[1,0,0,1]])\n",
        "testcase3=np.array([[1,1,0,2,3],[3,4,2,0,1],[0,2,1,1,1],[-1,2,0,3,1],[2,1,0,1,0]])\n",
        "\n",
        "rank0= np.linalg.matrix_rank(testcase0)\n",
        "rank1= np.linalg.matrix_rank(testcase1)\n",
        "rank2= np.linalg.matrix_rank(testcase2)\n",
        "rank3= np.linalg.matrix_rank(testcase3)\n",
        "\n",
        "print(\"Rank of the zeroth test case: \",rank0)\n",
        "print(\"Rank of the first test case: \",rank1)\n",
        "print(\"Rank of the second test case: \",rank2)\n",
        "print(\"Rank of the third test case: \",rank3)"
      ],
      "metadata": {
        "colab": {
          "base_uri": "https://localhost:8080/"
        },
        "id": "Y5ZWc_hHsWsD",
        "outputId": "99416a5b-96af-4a31-85c7-b9bb08bb3150"
      },
      "execution_count": null,
      "outputs": [
        {
          "output_type": "stream",
          "name": "stdout",
          "text": [
            "Rank of the zeroth test case:  2\n",
            "Rank of the first test case:  3\n",
            "Rank of the second test case:  4\n",
            "Rank of the third test case:  5\n"
          ]
        }
      ]
    }
  ]
}